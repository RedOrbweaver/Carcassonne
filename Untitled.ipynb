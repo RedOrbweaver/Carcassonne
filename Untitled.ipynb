{
 "cells": [
  {
   "cell_type": "code",
   "execution_count": 8,
   "id": "static-north",
   "metadata": {},
   "outputs": [
    {
     "data": {
      "text/plain": [
       "[0, 1, 2, 3, 4, 5, 6, 7, 8]"
      ]
     },
     "execution_count": 8,
     "metadata": {},
     "output_type": "execute_result"
    }
   ],
   "source": [
    "l = [x for x in range (0, 9)]\n",
    "l"
   ]
  },
  {
   "cell_type": "code",
   "execution_count": 30,
   "id": "subtle-investing",
   "metadata": {},
   "outputs": [
    {
     "data": {
      "text/plain": [
       "[0, 0, 6, 0, 0, 7, 0, 0, 8]"
      ]
     },
     "execution_count": 30,
     "metadata": {},
     "output_type": "execute_result"
    }
   ],
   "source": [
    "from math import *\n",
    "def rot(l, n):\n",
    "    sd = int(sqrt(len(l)))\n",
    "    sz = len(l)\n",
    "    o = [0 for x in range(0, sz)]\n",
    "    for x in range(0, 9):\n",
    "        o[(2+3*x) % 9] = l[x]\n",
    "    return o#[ l[sd*(sd-1-(x % sd)) + int(x/sd)] for x in range(0, sz) ]\n",
    "rot(l, 1)"
   ]
  },
  {
   "cell_type": "code",
   "execution_count": 29,
   "id": "recreational-progress",
   "metadata": {},
   "outputs": [
    {
     "data": {
      "text/plain": [
       "[2, 5, 8, 2, 5, 8, 2, 5, 8]"
      ]
     },
     "execution_count": 29,
     "metadata": {},
     "output_type": "execute_result"
    }
   ],
   "source": [
    "[ (2+3*x) % 9 for x in range(0, 9)]"
   ]
  },
  {
   "cell_type": "code",
   "execution_count": 12,
   "id": "rising-gateway",
   "metadata": {},
   "outputs": [
    {
     "name": "stdout",
     "output_type": "stream",
     "text": [
      "[6, 3, 0, 7, 4, 1, 8, 5, 2]\n",
      "[8, 7, 6, 5, 4, 3, 2, 1, 0]\n",
      "[2, 5, 8, 1, 4, 7, 0, 3, 6]\n",
      "[0, 1, 2, 3, 4, 5, 6, 7, 8]\n"
     ]
    }
   ],
   "source": [
    "l0 = rot(l, 1); print(l0)\n",
    "l1 = rot(l0, 1); print(l1)\n",
    "l2 = rot(l1, 1); print(l2)\n",
    "l3 = rot(l2, 1); print(l3)\n",
    "print(\"\\n\")\n",
    "print(rot(l, 1))\n",
    "print(rot(l, 2))\n",
    "print(rot(l, 3))\n",
    "print(rot(l, 4))"
   ]
  },
  {
   "cell_type": "code",
   "execution_count": 31,
   "id": "interior-journalist",
   "metadata": {},
   "outputs": [
    {
     "data": {
      "text/plain": [
       "3"
      ]
     },
     "execution_count": 31,
     "metadata": {},
     "output_type": "execute_result"
    }
   ],
   "source": [
    "-2 % 5"
   ]
  },
  {
   "cell_type": "code",
   "execution_count": null,
   "id": "spatial-health",
   "metadata": {},
   "outputs": [],
   "source": []
  }
 ],
 "metadata": {
  "kernelspec": {
   "display_name": "Python 3",
   "language": "python",
   "name": "python3"
  },
  "language_info": {
   "codemirror_mode": {
    "name": "ipython",
    "version": 3
   },
   "file_extension": ".py",
   "mimetype": "text/x-python",
   "name": "python",
   "nbconvert_exporter": "python",
   "pygments_lexer": "ipython3",
   "version": "3.9.5"
  }
 },
 "nbformat": 4,
 "nbformat_minor": 5
}
